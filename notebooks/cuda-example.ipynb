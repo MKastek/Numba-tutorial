{
 "cells": [
  {
   "cell_type": "code",
   "execution_count": 1,
   "id": "afb42caf",
   "metadata": {},
   "outputs": [],
   "source": [
    "import sys  \n",
    "sys.path.insert(0, r'C:\\Users\\marci\\Desktop\\Python\\Numba-tutorial')\n",
    "import numpy as np\n",
    "import matplotlib.pyplot as plt\n",
    "from numba import int64, int32, float64, float32, cuda, guvectorize"
   ]
  },
  {
   "cell_type": "code",
   "execution_count": 2,
   "id": "a3b1cd5c",
   "metadata": {},
   "outputs": [],
   "source": [
    "from codes.FractionalAbundance import FractionalAbundance"
   ]
  },
  {
   "cell_type": "code",
   "execution_count": 56,
   "id": "52bf781a",
   "metadata": {},
   "outputs": [],
   "source": [
    "FA = FractionalAbundance(element=\"He\", concurrent=True)"
   ]
  },
  {
   "cell_type": "code",
   "execution_count": 57,
   "id": "590e048b",
   "metadata": {},
   "outputs": [],
   "source": [
    "K = FA.K"
   ]
  },
  {
   "cell_type": "code",
   "execution_count": 58,
   "id": "132c0d42",
   "metadata": {},
   "outputs": [],
   "source": [
    "FA_output = np.zeros_like(K)"
   ]
  },
  {
   "cell_type": "code",
   "execution_count": 59,
   "id": "8fad899e",
   "metadata": {},
   "outputs": [],
   "source": [
    "for i in range(K.shape[1]):\n",
    "    for j in range(K.shape[2]):\n",
    "        sum_all = 0\n",
    "        current_product = K[0,i,j]\n",
    "        product_all = []\n",
    "        for k in range(K.shape[0]):\n",
    "            current_product *= K[k,i,j]\n",
    "            sum_all += current_product\n",
    "            product_all.append(current_product)\n",
    "        for k in range(K.shape[0]):    \n",
    "            FA_output[k,i,j] = product_all[k]/sum_all\n",
    "        "
   ]
  },
  {
   "cell_type": "code",
   "execution_count": 65,
   "id": "5430e89e",
   "metadata": {},
   "outputs": [
    {
     "data": {
      "text/plain": [
       "False"
      ]
     },
     "execution_count": 65,
     "metadata": {},
     "output_type": "execute_result"
    }
   ],
   "source": [
    "np.array_equal(FA_output, FA.FA_arr)"
   ]
  },
  {
   "cell_type": "code",
   "execution_count": 67,
   "id": "cacf7295",
   "metadata": {},
   "outputs": [
    {
     "data": {
      "text/plain": [
       "False"
      ]
     },
     "execution_count": 67,
     "metadata": {},
     "output_type": "execute_result"
    }
   ],
   "source": [
    "np.allclose(FA_output, FA.FA_arr)"
   ]
  },
  {
   "cell_type": "code",
   "execution_count": 63,
   "id": "352f1666",
   "metadata": {},
   "outputs": [
    {
     "data": {
      "text/plain": [
       "array([[[2.00488757e-03, 1.99819970e-03, 1.99152362e-03, ...,\n",
       "         1.29155375e-03, 1.29037550e-03, 1.30024630e-03],\n",
       "        [1.87507226e-03, 1.86840457e-03, 1.86170592e-03, ...,\n",
       "         1.18396706e-03, 1.18199627e-03, 1.19037307e-03],\n",
       "        [1.75299512e-03, 1.74633927e-03, 1.73961949e-03, ...,\n",
       "         1.08362029e-03, 1.08108684e-03, 1.08837478e-03],\n",
       "        ...,\n",
       "        [2.81659659e-16, 2.79133876e-16, 2.76522406e-16, ...,\n",
       "         3.80586245e-17, 3.70666543e-17, 3.63147486e-17],\n",
       "        [2.75388757e-16, 2.72920212e-16, 2.70368186e-16, ...,\n",
       "         3.72078588e-17, 3.62375276e-17, 3.55403040e-17],\n",
       "        [2.69256339e-16, 2.66844299e-16, 2.64350858e-16, ...,\n",
       "         3.63799896e-17, 3.54307990e-17, 3.47823303e-17]],\n",
       "\n",
       "       [[8.74624706e-01, 8.74719606e-01, 8.74764243e-01, ...,\n",
       "         8.25353511e-01, 8.25056711e-01, 8.30284953e-01],\n",
       "        [8.60479770e-01, 8.60568018e-01, 8.60603422e-01, ...,\n",
       "         8.06670722e-01, 8.06343907e-01, 8.12114775e-01],\n",
       "        [8.45106225e-01, 8.45185150e-01, 8.45208713e-01, ...,\n",
       "         7.86639413e-01, 7.86281048e-01, 7.92618299e-01],\n",
       "        ...,\n",
       "        [5.39597526e-09, 5.39366012e-09, 5.39143038e-09, ...,\n",
       "         4.95650686e-09, 4.95829008e-09, 5.00365149e-09],\n",
       "        [5.33763388e-09, 5.33531478e-09, 5.33308421e-09, ...,\n",
       "         4.89785502e-09, 4.89952366e-09, 4.94956951e-09],\n",
       "        [5.27990386e-09, 5.27759184e-09, 5.27537022e-09, ...,\n",
       "         4.84041455e-09, 4.84198169e-09, 4.89606668e-09]],\n",
       "\n",
       "       [[1.23370407e-01, 1.23282195e-01, 1.23244233e-01, ...,\n",
       "         1.73354936e-01, 1.73652914e-01, 1.68414801e-01],\n",
       "        [1.37645158e-01, 1.37563577e-01, 1.37534872e-01, ...,\n",
       "         1.92145311e-01, 1.92474097e-01, 1.86694852e-01],\n",
       "        [1.53140780e-01, 1.53068511e-01, 1.53051668e-01, ...,\n",
       "         2.12276967e-01, 2.12637866e-01, 2.06293326e-01],\n",
       "        ...,\n",
       "        [9.99999995e-01, 9.99999995e-01, 9.99999995e-01, ...,\n",
       "         9.99999995e-01, 9.99999995e-01, 9.99999995e-01],\n",
       "        [9.99999995e-01, 9.99999995e-01, 9.99999995e-01, ...,\n",
       "         9.99999995e-01, 9.99999995e-01, 9.99999995e-01],\n",
       "        [9.99999995e-01, 9.99999995e-01, 9.99999995e-01, ...,\n",
       "         9.99999995e-01, 9.99999995e-01, 9.99999995e-01]]])"
      ]
     },
     "execution_count": 63,
     "metadata": {},
     "output_type": "execute_result"
    }
   ],
   "source": [
    "FA_output"
   ]
  },
  {
   "cell_type": "code",
   "execution_count": 64,
   "id": "92542b7d",
   "metadata": {},
   "outputs": [
    {
     "data": {
      "text/plain": [
       "[array([[2.00891522e-03, 2.00220049e-03, 1.99549770e-03, ...,\n",
       "         1.29322402e-03, 1.29204272e-03, 1.30193915e-03],\n",
       "        [1.87859476e-03, 1.87190204e-03, 1.86517833e-03, ...,\n",
       "         1.18537050e-03, 1.18339504e-03, 1.19179175e-03],\n",
       "        [1.75607351e-03, 1.74939431e-03, 1.74265103e-03, ...,\n",
       "         1.08479579e-03, 1.08225685e-03, 1.08956063e-03],\n",
       "        ...,\n",
       "        [2.81659659e-16, 2.79133876e-16, 2.76522406e-16, ...,\n",
       "         3.80586245e-17, 3.70666543e-17, 3.63147486e-17],\n",
       "        [2.75388757e-16, 2.72920212e-16, 2.70368186e-16, ...,\n",
       "         3.72078588e-17, 3.62375276e-17, 3.55403040e-17],\n",
       "        [2.69256339e-16, 2.66844299e-16, 2.64350858e-16, ...,\n",
       "         3.63799896e-17, 3.54307990e-17, 3.47823303e-17]]),\n",
       " array([[8.76381753e-01, 8.76470970e-01, 8.76509833e-01, ...,\n",
       "         8.26420878e-01, 8.26122719e-01, 8.31365933e-01],\n",
       "        [8.62096262e-01, 8.62178917e-01, 8.62208601e-01, ...,\n",
       "         8.07626925e-01, 8.07298130e-01, 8.13082647e-01],\n",
       "        [8.46590293e-01, 8.46663712e-01, 8.46681616e-01, ...,\n",
       "         7.87492756e-01, 7.87132006e-01, 7.93481905e-01],\n",
       "        ...,\n",
       "        [5.39597526e-09, 5.39366012e-09, 5.39143038e-09, ...,\n",
       "         4.95650686e-09, 4.95829008e-09, 5.00365149e-09],\n",
       "        [5.33763388e-09, 5.33531478e-09, 5.33308421e-09, ...,\n",
       "         4.89785502e-09, 4.89952366e-09, 4.94956951e-09],\n",
       "        [5.27990386e-09, 5.27759184e-09, 5.27537022e-09, ...,\n",
       "         4.84041455e-09, 4.84198169e-09, 4.89606668e-09]]),\n",
       " array([[0.12361825, 0.12352903, 0.12349017, ..., 0.17357912, 0.17387728,\n",
       "         0.16863407],\n",
       "        [0.13790374, 0.13782108, 0.1377914 , ..., 0.19237307, 0.19270187,\n",
       "         0.18691735],\n",
       "        [0.15340971, 0.15333629, 0.15331838, ..., 0.21250724, 0.21286799,\n",
       "         0.2065181 ],\n",
       "        ...,\n",
       "        [0.99999999, 0.99999999, 0.99999999, ..., 1.        , 1.        ,\n",
       "         0.99999999],\n",
       "        [0.99999999, 0.99999999, 0.99999999, ..., 1.        , 1.        ,\n",
       "         1.        ],\n",
       "        [0.99999999, 0.99999999, 0.99999999, ..., 1.        , 1.        ,\n",
       "         1.        ]])]"
      ]
     },
     "execution_count": 64,
     "metadata": {},
     "output_type": "execute_result"
    }
   ],
   "source": [
    "FA.FA_arr"
   ]
  },
  {
   "cell_type": "markdown",
   "id": "d77c9db3",
   "metadata": {},
   "source": [
    "### Numba"
   ]
  },
  {
   "cell_type": "code",
   "execution_count": 10,
   "id": "6af11dbd",
   "metadata": {},
   "outputs": [],
   "source": [
    "import math\n",
    "from numba import cuda\n",
    "import math \n",
    "from numba import float32, float64\n",
    "from pdb import set_trace"
   ]
  },
  {
   "cell_type": "code",
   "execution_count": 43,
   "id": "76fb5335",
   "metadata": {},
   "outputs": [],
   "source": [
    "array_K = K.copy()"
   ]
  },
  {
   "cell_type": "code",
   "execution_count": 44,
   "id": "02b7bfd1",
   "metadata": {},
   "outputs": [
    {
     "name": "stdout",
     "output_type": "stream",
     "text": [
      "(1, 160, 20)\n",
      "(3, 5, 5)\n",
      "(4, 2, 1)\n"
     ]
    }
   ],
   "source": [
    "threadsperblock = (3, 5, 5)\n",
    "blockspergrid_x = math.ceil(array_K.shape[0] / threadsperblock[0])\n",
    "blockspergrid_y = math.ceil(array_K.shape[1] / threadsperblock[1])\n",
    "blockspergrid_z = math.ceil(array_K.shape[2] / threadsperblock[2])\n",
    "blockspergrid = (blockspergrid_x, blockspergrid_y, blockspergrid_z)\n",
    "print(blockspergrid)\n",
    "print(threadsperblock)\n",
    "print(array.shape)"
   ]
  },
  {
   "cell_type": "code",
   "execution_count": 45,
   "id": "d9372cb7",
   "metadata": {},
   "outputs": [],
   "source": [
    "@cuda.jit\n",
    "def increment_a_2D_array(X,Y):\n",
    "    cuda.syncthreads()\n",
    "    k, j, i = cuda.grid(3)\n",
    "    if i < X.shape[2] and j < X.shape[1] and k < X.shape[0]:\n",
    "        sum_all = 0\n",
    "        current_product = 1\n",
    "        cuda.syncthreads()\n",
    "        for k in range(X.shape[0]):\n",
    "            current_product *= X[k,j,i]\n",
    "            sum_all += current_product\n",
    "            Y[k, j, i] = current_product\n",
    "            cuda.syncthreads()\n",
    "        for k in range(X.shape[0]):\n",
    "            Y[k, j, i] = Y[k, j, i] / sum_all\n",
    "            cuda.syncthreads()\n",
    "    cuda.syncthreads()"
   ]
  },
  {
   "cell_type": "code",
   "execution_count": 70,
   "id": "3883ba8c",
   "metadata": {},
   "outputs": [
    {
     "data": {
      "text/plain": [
       "(5, 20000)"
      ]
     },
     "execution_count": 70,
     "metadata": {},
     "output_type": "execute_result"
    },
    {
     "data": {
      "image/png": "[encoded data removed]",
      "text/plain": [
       "<Figure size 1050x682.5 with 1 Axes>"
      ]
     },
     "metadata": {},
     "output_type": "display_data"
    }
   ],
   "source": [
    "# X array\n",
    "device_array = cuda.to_device((array_K).astype(np.float64))\n",
    "# Y array\n",
    "result_array = cuda.to_device(np.ones_like(array_K).astype(np.float64))\n",
    "increment_a_2D_array[blockspergrid, threadsperblock](device_array,\n",
    "                                                     result_array)\n",
    "result_gpu = result_array.copy_to_host()\n",
    "plt.plot(result_gpu[0,: ,50])\n",
    "plt.plot(result_gpu[1,: ,50])\n",
    "plt.plot(result_gpu[2,: ,50])\n",
    "plt.xscale(\"log\")\n",
    "plt.yscale(\"log\")\n",
    "plt.ylim((10**-3, 10**0))\n",
    "plt.xlim((5, 20000))"
   ]
  },
  {
   "cell_type": "code",
   "execution_count": 68,
   "id": "205d83c5",
   "metadata": {},
   "outputs": [
    {
     "data": {
      "image/png": "[encoded data removed]",
      "text/plain": [
       "<Figure size 1050x682.5 with 1 Axes>"
      ]
     },
     "metadata": {},
     "output_type": "display_data"
    }
   ],
   "source": [
    "for ion in range(FA.Z+1):\n",
    "    plt.plot(FA_output[ion,:,50])\n",
    "    plt.xscale(\"log\")\n",
    "    plt.yscale(\"log\")\n",
    "    plt.ylim((10**-3, 10**0))\n",
    "    plt.xlim((5, 20000))"
   ]
  },
  {
   "cell_type": "code",
   "execution_count": 51,
   "id": "31e3cb55",
   "metadata": {},
   "outputs": [
    {
     "data": {
      "image/png": "[encoded data removed]",
      "text/plain": [
       "<Figure size 1050x682.5 with 1 Axes>"
      ]
     },
     "metadata": {},
     "output_type": "display_data"
    }
   ],
   "source": [
    "FA.plot_FA_all()"
   ]
  },
  {
   "cell_type": "code",
   "execution_count": 21,
   "id": "9e77f64e",
   "metadata": {},
   "outputs": [
    {
     "data": {
      "text/plain": [
       "array([[[4.17022005e-01],\n",
       "        [7.20324493e-01]],\n",
       "\n",
       "       [[1.14374817e-04],\n",
       "        [3.02332573e-01]],\n",
       "\n",
       "       [[1.46755891e-01],\n",
       "        [9.23385948e-02]]])"
      ]
     },
     "execution_count": 21,
     "metadata": {},
     "output_type": "execute_result"
    }
   ],
   "source": [
    "np.random.seed(1)\n",
    "array_random = np.random.rand(3,2,1)\n",
    "array_random"
   ]
  },
  {
   "cell_type": "code",
   "execution_count": 22,
   "id": "58551434",
   "metadata": {},
   "outputs": [
    {
     "data": {
      "text/plain": [
       "array([[[1.00000000e+00],\n",
       "        [1.00000000e+00]],\n",
       "\n",
       "       [[4.17022005e-01],\n",
       "        [7.20324493e-01]],\n",
       "\n",
       "       [[1.14374817e-04],\n",
       "        [3.02332573e-01]],\n",
       "\n",
       "       [[1.46755891e-01],\n",
       "        [9.23385948e-02]]])"
      ]
     },
     "execution_count": 22,
     "metadata": {},
     "output_type": "execute_result"
    }
   ],
   "source": [
    "array = np.insert(array_random,[0],[1,1]).reshape(4,2,1)\n",
    "array"
   ]
  },
  {
   "cell_type": "code",
   "execution_count": 23,
   "id": "bbfa04a7",
   "metadata": {},
   "outputs": [
    {
     "data": {
      "text/plain": [
       "0.7203244934421581"
      ]
     },
     "execution_count": 23,
     "metadata": {},
     "output_type": "execute_result"
    }
   ],
   "source": [
    "array[1][1][0]"
   ]
  },
  {
   "cell_type": "code",
   "execution_count": 24,
   "id": "70311e4b",
   "metadata": {},
   "outputs": [],
   "source": [
    "def multidim_cumsum(array,sums=False):\n",
    "    array_out = []\n",
    "    for i in range(array.shape[1]):\n",
    "        for j in range(array.shape[2]):\n",
    "            if sums:\n",
    "                array_out.append(np.cumprod(array[:,i,j])/np.cumprod(array[:,i,j]).sum())\n",
    "            else:\n",
    "                array_out.append(np.cumprod(array[:,i,j]))\n",
    "    return np.array(array_out).T.reshape(4,2,1)"
   ]
  },
  {
   "cell_type": "code",
   "execution_count": 25,
   "id": "84de7a1e",
   "metadata": {},
   "outputs": [
    {
     "data": {
      "text/plain": [
       "array([[[1.00000000e+00],\n",
       "        [1.00000000e+00]],\n",
       "\n",
       "       [[4.17022005e-01],\n",
       "        [7.20324493e-01]],\n",
       "\n",
       "       [[4.76968156e-05],\n",
       "        [2.17777557e-01]],\n",
       "\n",
       "       [[6.99978866e-06],\n",
       "        [2.01092736e-02]]])"
      ]
     },
     "execution_count": 25,
     "metadata": {},
     "output_type": "execute_result"
    }
   ],
   "source": [
    "multidim_cumsum(array)"
   ]
  },
  {
   "cell_type": "code",
   "execution_count": 26,
   "id": "6688c64a",
   "metadata": {},
   "outputs": [
    {
     "data": {
      "text/plain": [
       "(4, 2, 1)"
      ]
     },
     "execution_count": 26,
     "metadata": {},
     "output_type": "execute_result"
    }
   ],
   "source": [
    "array.shape"
   ]
  },
  {
   "cell_type": "code",
   "execution_count": 27,
   "id": "4f4491fe",
   "metadata": {},
   "outputs": [
    {
     "data": {
      "text/plain": [
       "1.0"
      ]
     },
     "execution_count": 27,
     "metadata": {},
     "output_type": "execute_result"
    }
   ],
   "source": [
    "array[0, 1, 0]"
   ]
  },
  {
   "cell_type": "code",
   "execution_count": 28,
   "id": "b76045d5",
   "metadata": {},
   "outputs": [
    {
     "name": "stdout",
     "output_type": "stream",
     "text": [
      "blocks (2, 1, 1)\n",
      "threads (2, 2, 1)\n",
      "(4, 2, 1)\n"
     ]
    }
   ],
   "source": [
    "threadsperblock = (2, 2, 1)\n",
    "blockspergrid_x = math.ceil(array.shape[0] / threadsperblock[0])\n",
    "blockspergrid_y = math.ceil(array.shape[1] / threadsperblock[1])\n",
    "blockspergrid_z = math.ceil(array.shape[2] / threadsperblock[2])\n",
    "blockspergrid = (blockspergrid_x, blockspergrid_y, blockspergrid_z)\n",
    "print('blocks',blockspergrid)\n",
    "print('threads',threadsperblock)\n",
    "print(array.shape)"
   ]
  },
  {
   "cell_type": "code",
   "execution_count": 29,
   "id": "628d974c",
   "metadata": {},
   "outputs": [],
   "source": [
    "from numba import cuda\n",
    "import math \n",
    "from numba import float32 \n",
    "@cuda.jit()\n",
    "def cum_prod(X,Y):\n",
    "    cuda.syncthreads()\n",
    "    k, j, i = cuda.grid(3)\n",
    "    if i < X.shape[2] and j < X.shape[1] and k < X.shape[0]:\n",
    "        current_product = 1\n",
    "        sum_all = 0\n",
    "        for k in range(X.shape[0]):\n",
    "            current_product *= X[k,j,i]\n",
    "            Y[k, j, i] = current_product\n",
    "            sum_all += current_product\n",
    "        cuda.syncthreads()\n",
    "        for k in range(X.shape[0]):\n",
    "            Y[k, j, i] = Y[k, j, i] / sum_all"
   ]
  },
  {
   "cell_type": "code",
   "execution_count": 30,
   "id": "e813cbcc",
   "metadata": {},
   "outputs": [
    {
     "name": "stderr",
     "output_type": "stream",
     "text": [
      "C:\\Users\\marci\\AppData\\Roaming\\Python\\Python39\\site-packages\\numba\\cuda\\dispatcher.py:488: NumbaPerformanceWarning: \u001b[1mGrid size 2 will likely result in GPU under-utilization due to low occupancy.\u001b[0m\n",
      "  warn(NumbaPerformanceWarning(msg))\n"
     ]
    },
    {
     "data": {
      "text/plain": [
       "array([[[7.0567811e-01],\n",
       "        [5.1067013e-01]],\n",
       "\n",
       "       [[2.9428330e-01],\n",
       "        [3.6784819e-01]],\n",
       "\n",
       "       [[3.3658598e-05],\n",
       "        [1.1121249e-01]],\n",
       "\n",
       "       [[4.9395971e-06],\n",
       "        [1.0269205e-02]]], dtype=float32)"
      ]
     },
     "execution_count": 30,
     "metadata": {},
     "output_type": "execute_result"
    }
   ],
   "source": [
    "# X array\n",
    "device_array = cuda.to_device((array).astype(np.float32))\n",
    "# Y array\n",
    "result_array = cuda.device_array_like(device_array)\n",
    "\n",
    "cum_prod[blockspergrid, threadsperblock](device_array,\n",
    "                                                     result_array)\n",
    "cuda.synchronize()\n",
    "result_gpu = result_array.copy_to_host()\n",
    "result_gpu"
   ]
  },
  {
   "cell_type": "code",
   "execution_count": 33,
   "id": "10a99fa0",
   "metadata": {},
   "outputs": [
    {
     "data": {
      "text/plain": [
       "False"
      ]
     },
     "execution_count": 33,
     "metadata": {},
     "output_type": "execute_result"
    }
   ],
   "source": [
    "np.array_equal(result_gpu, multidim_cumsum(array,sums=True))"
   ]
  },
  {
   "cell_type": "code",
   "execution_count": 34,
   "id": "3b959a99",
   "metadata": {},
   "outputs": [
    {
     "data": {
      "text/plain": [
       "array([[[7.05678104e-01],\n",
       "        [5.10670114e-01]],\n",
       "\n",
       "       [[2.94283298e-01],\n",
       "        [3.67848191e-01]],\n",
       "\n",
       "       [[3.36585984e-05],\n",
       "        [1.11212490e-01]],\n",
       "\n",
       "       [[4.93959759e-06],\n",
       "        [1.02692050e-02]]])"
      ]
     },
     "execution_count": 34,
     "metadata": {},
     "output_type": "execute_result"
    }
   ],
   "source": [
    " multidim_cumsum(array,sums=True)"
   ]
  },
  {
   "cell_type": "code",
   "execution_count": null,
   "id": "82572c6c",
   "metadata": {},
   "outputs": [],
   "source": []
  }
 ],
 "metadata": {
  "kernelspec": {
   "display_name": "Python 3 (ipykernel)",
   "language": "python",
   "name": "python3"
  },
  "language_info": {
   "codemirror_mode": {
    "name": "ipython",
    "version": 3
   },
   "file_extension": ".py",
   "mimetype": "text/x-python",
   "name": "python",
   "nbconvert_exporter": "python",
   "pygments_lexer": "ipython3",
   "version": "3.9.7"
  }
 },
 "nbformat": 4,
 "nbformat_minor": 5
}
