{
 "cells": [
  {
   "cell_type": "code",
   "execution_count": 1,
   "id": "2224938f",
   "metadata": {
    "collapsed": true
   },
   "outputs": [],
   "source": [
    "import numba"
   ]
  },
  {
   "cell_type": "markdown",
   "id": "46cd4ac3",
   "metadata": {},
   "source": [
    "### How to measure the performance of Numba?"
   ]
  },
  {
   "cell_type": "markdown",
   "id": "fea4c515",
   "metadata": {},
   "source": [
    "First, recall that Numba has to compile your function for the argument types given before it executes the machine code version of your function.   \n",
    "This takes time!  \n"
   ]
  },
  {
   "cell_type": "markdown",
   "id": "4233ad7f",
   "metadata": {},
   "source": [
    "#### Common mistake"
   ]
  },
  {
   "cell_type": "markdown",
   "id": "7014911b",
   "metadata": {},
   "source": [
    "A really common mistake when measuring performance is to not account for the above behaviour and to time code once with a simple timer that includes the time taken to compile your function in the execution time."
   ]
  },
  {
   "cell_type": "code",
   "execution_count": 2,
   "id": "546267e5",
   "metadata": {},
   "outputs": [
    {
     "name": "stdout",
     "output_type": "stream",
     "text": [
      "Elapsed (with compilation) = 1.1794615999999678s\n",
      "Elapsed (after compilation) = 3.629999997656341e-05s\n"
     ]
    }
   ],
   "source": [
    "from numba import jit\n",
    "import numpy as np\n",
    "import time\n",
    "\n",
    "x = np.arange(100).reshape(10, 10)\n",
    "\n",
    "@jit(nopython=True)\n",
    "def go_fast(a): # Function is compiled and runs in machine code\n",
    "    trace = 0.0\n",
    "    for i in range(a.shape[0]):\n",
    "        trace += np.tanh(a[i, i])\n",
    "    return a + trace\n",
    "\n",
    "# DO NOT REPORT THIS... COMPILATION TIME IS INCLUDED IN THE EXECUTION TIME!\n",
    "start = time.perf_counter()\n",
    "go_fast(x)\n",
    "end = time.perf_counter()\n",
    "print(\"Elapsed (with compilation) = {}s\".format((end - start)))\n",
    "\n",
    "# NOW THE FUNCTION IS COMPILED, RE-TIME IT EXECUTING FROM CACHE\n",
    "start = time.perf_counter()\n",
    "go_fast(x)\n",
    "end = time.perf_counter()\n",
    "print(\"Elapsed (after compilation) = {}s\".format((end - start)))\n"
   ]
  },
  {
   "cell_type": "markdown",
   "id": "668f85cb",
   "metadata": {},
   "source": [
    "### Extra options in some decorators"
   ]
  },
  {
   "cell_type": "markdown",
   "id": "5b9310e3",
   "metadata": {},
   "source": [
    "Extra options available in some decorators:\n",
    "\n",
    "- parallel = True - enable the automatic parallelization of the function.\n",
    "\n",
    "- fastmath = True - enable fast-math behaviour for the function."
   ]
  },
  {
   "cell_type": "markdown",
   "id": "047f3a48",
   "metadata": {},
   "source": [
    "### Numba version"
   ]
  },
  {
   "cell_type": "code",
   "execution_count": 4,
   "id": "cb550e93",
   "metadata": {},
   "outputs": [
    {
     "data": {
      "text/plain": [
       "'0.56.0'"
      ]
     },
     "execution_count": 4,
     "metadata": {},
     "output_type": "execute_result"
    }
   ],
   "source": [
    "numba.__version__"
   ]
  },
  {
   "cell_type": "code",
   "execution_count": 10,
   "id": "a4122737",
   "metadata": {},
   "outputs": [
    {
     "name": "stdout",
     "output_type": "stream",
     "text": [
      "System info:\n",
      "--------------------------------------------------------------------------------\n",
      "__Time Stamp__\n",
      "Report started (local time)                   : 2022-09-19 17:33:28.600817\n",
      "UTC start time                                : 2022-09-19 15:33:28.600817\n",
      "Running time (s)                              : 5.835758\n",
      "\n",
      "__Hardware Information__\n",
      "Machine                                       : AMD64\n",
      "CPU Name                                      : tigerlake\n",
      "CPU Count                                     : 8\n",
      "Number of accessible CPUs                     : 8\n",
      "List of accessible CPUs cores                 : 0 1 2 3 4 5 6 7\n",
      "CFS Restrictions (CPUs worth of runtime)      : None\n",
      "\n",
      "CPU Features                                  : 64bit adx aes avx avx2\n",
      "                                                avx512bitalg avx512bw avx512cd\n",
      "                                                avx512dq avx512f avx512ifma\n",
      "                                                avx512vbmi avx512vbmi2 avx512vl\n",
      "                                                avx512vnni avx512vp2intersect\n",
      "                                                avx512vpopcntdq bmi bmi2\n",
      "                                                clflushopt clwb cmov cx16 cx8 f16c\n",
      "                                                fma fsgsbase fxsr gfni invpcid\n",
      "                                                lzcnt mmx movbe movdir64b movdiri\n",
      "                                                pclmul popcnt prfchw rdpid rdrnd\n",
      "                                                rdseed sahf sha shstk sse sse2\n",
      "                                                sse3 sse4.1 sse4.2 ssse3 vaes\n",
      "                                                vpclmulqdq xsave xsavec xsaveopt\n",
      "                                                xsaves\n",
      "\n",
      "Memory Total (MB)                             : 16122\n",
      "Memory Available (MB)                         : 5687\n",
      "\n",
      "__OS Information__\n",
      "Platform Name                                 : Windows-10-10.0.19044-SP0\n",
      "Platform Release                              : 10\n",
      "OS Name                                       : Windows\n",
      "OS Version                                    : 10.0.19044\n",
      "OS Specific Version                           : 10 10.0.19044 SP0 Multiprocessor Free\n",
      "Libc Version                                  : ?\n",
      "\n",
      "__Python Information__\n",
      "Python Compiler                               : MSC v.1916 64 bit (AMD64)\n",
      "Python Implementation                         : CPython\n",
      "Python Version                                : 3.9.7\n",
      "Python Locale                                 : pl_PL.cp1252\n",
      "\n",
      "__Numba Toolchain Versions__\n",
      "Numba Version                                 : 0.56.0\n",
      "llvmlite Version                              : 0.39.0\n",
      "\n",
      "__LLVM Information__\n",
      "LLVM Version                                  : 11.1.0\n",
      "\n",
      "__CUDA Information__\n",
      "CUDA Device Initialized                       : True\n",
      "CUDA Driver Version                           : 11.7\n",
      "CUDA Runtime Version                          : 11.6\n",
      "CUDA NVIDIA Bindings Available                : False\n",
      "CUDA NVIDIA Bindings In Use                   : False\n",
      "CUDA Detect Output:\n",
      "Found 1 CUDA devices\n",
      "id 0          b'NVIDIA T500'                              [SUPPORTED]\n",
      "                      Compute Capability: 7.5\n",
      "                           PCI Device ID: 0\n",
      "                              PCI Bus ID: 1\n",
      "                                    UUID: GPU-18c0c16d-d4f9-016a-277e-948d06a0c634\n",
      "                                Watchdog: Enabled\n",
      "                            Compute Mode: WDDM\n",
      "             FP32/FP64 Performance Ratio: 32\n",
      "Summary:\n",
      "\t1/1 devices are supported\n",
      "\n",
      "CUDA Libraries Test Output:\n",
      "Finding nvvm from CUDA_HOME\n",
      "\tnamed  nvvm64_40_0.dll\n",
      "\ttrying to open library...\tok\n",
      "Finding cudart from CUDA_HOME\n",
      "\tnamed  cudart64_110.dll\n",
      "\ttrying to open library...\tok\n",
      "Finding cudadevrt from CUDA_HOME\n",
      "\tnamed  cudadevrt.lib\n",
      "\tERROR: failed to find cudadevrt:\n",
      "cudadevrt.lib not found\n",
      "Finding libdevice from CUDA_HOME\n",
      "\ttrying to open library...\tok\n",
      "\n",
      "\n",
      "__NumPy Information__\n",
      "NumPy Version                                 : 1.22.4\n",
      "NumPy Supported SIMD features                 : ('MMX', 'SSE', 'SSE2', 'SSE3', 'SSSE3', 'SSE41', 'POPCNT', 'SSE42', 'AVX', 'F16C', 'FMA3', 'AVX2', 'AVX512F', 'AVX512CD', 'AVX512VPOPCNTDQ', 'AVX512VL', 'AVX512BW', 'AVX512DQ', 'AVX512VNNI', 'AVX512IFMA', 'AVX512VBMI', 'AVX512VBMI2', 'AVX512BITALG', 'AVX512_SKX', 'AVX512_CLX', 'AVX512_CNL', 'AVX512_ICL')\n",
      "NumPy Supported SIMD dispatch                 : ('SSSE3', 'SSE41', 'POPCNT', 'SSE42', 'AVX', 'F16C', 'FMA3', 'AVX2', 'AVX512F', 'AVX512CD', 'AVX512_SKX', 'AVX512_CLX', 'AVX512_CNL')\n",
      "NumPy Supported SIMD baseline                 : ('SSE', 'SSE2', 'SSE3')\n",
      "NumPy AVX512_SKX support detected             : True\n",
      "\n",
      "__SVML Information__\n",
      "SVML State, config.USING_SVML                 : True\n",
      "SVML Library Loaded                           : True\n",
      "llvmlite Using SVML Patched LLVM              : True\n",
      "SVML Operational                              : True\n",
      "\n",
      "__Threading Layer Information__\n",
      "TBB Threading Layer Available                 : False\n",
      "+--> Disabled due to Unknown import problem.\n",
      "OpenMP Threading Layer Available              : True\n",
      "+-->Vendor: MS\n",
      "Workqueue Threading Layer Available           : True\n",
      "+-->Workqueue imported successfully.\n",
      "\n",
      "__Numba Environment Variable Information__\n",
      "None found.\n",
      "\n",
      "__Conda Information__\n",
      "Conda Build                                   : 3.21.6\n",
      "Conda Env                                     : 4.12.0\n",
      "Conda Platform                                : win-64\n",
      "Conda Python Version                          : 3.9.7.final.0\n",
      "Conda Root Writable                           : True\n",
      "\n",
      "__Installed Packages__\n",
      "_ipyw_jlab_nb_ext_conf    0.1.0            py39haa95532_0  \n",
      "alabaster                 0.7.12             pyhd3eb1b0_0  \n",
      "anaconda                  2021.11                  py39_0  \n",
      "anaconda-client           1.9.0            py39haa95532_0  \n",
      "anaconda-navigator        2.1.1                    py39_0  \n",
      "anaconda-project          0.10.1             pyhd3eb1b0_0  \n",
      "anyio                     2.2.0            py39haa95532_2  \n",
      "appdirs                   1.4.4              pyhd3eb1b0_0  \n",
      "argh                      0.26.2           py39haa95532_0  \n",
      "argon2-cffi               20.1.0           py39h2bbff1b_1  \n",
      "arrow                     0.13.1           py39haa95532_0  \n",
      "asn1crypto                1.4.0                      py_0  \n",
      "astroid                   2.6.6            py39haa95532_0  \n",
      "astropy                   4.3.1            py39hc7d831d_0  \n",
      "async_generator           1.10               pyhd3eb1b0_0  \n",
      "atomicwrites              1.4.0                      py_0  \n",
      "attrs                     21.2.0             pyhd3eb1b0_0  \n",
      "autopep8                  1.5.7              pyhd3eb1b0_0  \n",
      "babel                     2.9.1              pyhd3eb1b0_0  \n",
      "backcall                  0.2.0              pyhd3eb1b0_0  \n",
      "backports                 1.0                pyhd3eb1b0_2  \n",
      "backports.functools_lru_cache 1.6.4              pyhd3eb1b0_0  \n",
      "backports.shutil_get_terminal_size 1.0.0              pyhd3eb1b0_3  \n",
      "backports.tempfile        1.0                pyhd3eb1b0_1  \n",
      "backports.weakref         1.0.post1                  py_1  \n",
      "bcrypt                    3.2.0            py39h196d8e1_0  \n",
      "beautifulsoup4            4.10.0             pyh06a4308_0  \n",
      "binaryornot               0.4.4              pyhd3eb1b0_1  \n",
      "bitarray                  2.3.0            py39h2bbff1b_1  \n",
      "bkcharts                  0.2              py39haa95532_0  \n",
      "black                     19.10b0                    py_0  \n",
      "blas                      1.0                         mkl  \n",
      "bleach                    4.0.0              pyhd3eb1b0_0  \n",
      "blosc                     1.21.0               h19a0ad4_0  \n",
      "bokeh                     2.4.1            py39haa95532_0  \n",
      "boto                      2.49.0           py39haa95532_0  \n",
      "bottleneck                1.3.2            py39h7cc1a96_1  \n",
      "brotli                    1.0.9                ha925a31_2  \n",
      "brotlipy                  0.7.0           py39h2bbff1b_1003  \n",
      "bs4                       0.0.1                    pypi_0    pypi\n",
      "bzip2                     1.0.8                he774522_0  \n",
      "ca-certificates           2021.10.26           haa95532_2  \n",
      "cached-property           1.5.2                      py_0  \n",
      "certifi                   2021.10.8        py39haa95532_0  \n",
      "cffi                      1.14.6           py39h2bbff1b_0  \n",
      "cfitsio                   3.470                he774522_6  \n",
      "chardet                   4.0.0           py39haa95532_1003  \n",
      "charls                    2.2.0                h6c2663c_0  \n",
      "charset-normalizer        2.0.4              pyhd3eb1b0_0  \n",
      "chromedriver-autoinstaller 0.4.0                    pypi_0    pypi\n",
      "click                     8.0.3              pyhd3eb1b0_0  \n",
      "cloudpickle               2.0.0              pyhd3eb1b0_0  \n",
      "clyent                    1.2.2            py39haa95532_1  \n",
      "colorama                  0.4.4              pyhd3eb1b0_0  \n",
      "comtypes                  1.1.10          py39haa95532_1002  \n",
      "conda                     4.12.0           py39haa95532_0  \n",
      "conda-build               3.21.6           py39haa95532_0  \n",
      "conda-content-trust       0.1.1              pyhd3eb1b0_0  \n",
      "conda-env                 2.6.0                         1  \n",
      "conda-pack                0.6.0              pyhd3eb1b0_0  \n",
      "conda-package-handling    1.7.3            py39h8cc25b3_1  \n",
      "conda-repo-cli            1.0.4              pyhd3eb1b0_0  \n",
      "conda-token               0.3.0              pyhd3eb1b0_0  \n",
      "conda-verify              3.4.2                      py_1  \n",
      "console_shortcut          0.1.1                         4  \n",
      "contextlib2               0.6.0.post1        pyhd3eb1b0_0  \n",
      "cookiecutter              1.7.2              pyhd3eb1b0_0  \n",
      "cryptography              3.4.8            py39h71e12ea_0  \n",
      "curl                      7.78.0               h86230a5_0  \n",
      "cycler                    0.10.0           py39haa95532_0  \n",
      "cython                    0.29.24          py39h604cdb4_0  \n",
      "cytoolz                   0.11.0           py39h2bbff1b_0  \n",
      "daal4py                   2021.3.0         py39h757b272_0  \n",
      "dal                       2021.3.0           haa95532_564  \n",
      "dask                      2021.10.0          pyhd3eb1b0_0  \n",
      "dask-core                 2021.10.0          pyhd3eb1b0_0  \n",
      "dataclasses               0.8                pyh6d0b6a4_7  \n",
      "debugpy                   1.4.1            py39hd77b12b_0  \n",
      "decorator                 5.1.0              pyhd3eb1b0_0  \n",
      "defusedxml                0.7.1              pyhd3eb1b0_0  \n",
      "diff-match-patch          20200713           pyhd3eb1b0_0  \n",
      "distributed               2021.10.0        py39haa95532_0  \n",
      "docutils                  0.17.1           py39haa95532_1  \n",
      "entrypoints               0.3              py39haa95532_0  \n",
      "et_xmlfile                1.1.0            py39haa95532_0  \n",
      "fastcache                 1.1.0            py39h196d8e1_0  \n",
      "filelock                  3.3.1              pyhd3eb1b0_1  \n",
      "flake8                    3.9.2              pyhd3eb1b0_0  \n",
      "flask                     1.1.2              pyhd3eb1b0_0  \n",
      "fonttools                 4.25.0             pyhd3eb1b0_0  \n",
      "freetype                  2.10.4               hd328e21_0  \n",
      "fsspec                    2021.10.1          pyhd3eb1b0_0  \n",
      "future                    0.18.2           py39haa95532_1  \n",
      "get_terminal_size         1.0.0                h38e98db_0  \n",
      "gevent                    21.8.0           py39h2bbff1b_1  \n",
      "giflib                    5.2.1                h62dcd97_0  \n",
      "glob2                     0.7                pyhd3eb1b0_0  \n",
      "greenlet                  1.1.1            py39hd77b12b_0  \n",
      "h11                       0.13.0                   pypi_0    pypi\n",
      "h5py                      3.2.1            py39h3de5c98_0  \n",
      "hdf5                      1.10.6               h7ebc959_0  \n",
      "heapdict                  1.0.1              pyhd3eb1b0_0  \n",
      "html5lib                  1.1                pyhd3eb1b0_0  \n",
      "icc_rt                    2019.0.0             h0cc432a_1  \n",
      "icu                       58.2                 ha925a31_3  \n",
      "idna                      3.2                pyhd3eb1b0_0  \n",
      "imagecodecs               2021.8.26        py39ha1f97ea_0  \n",
      "imageio                   2.9.0              pyhd3eb1b0_0  \n",
      "imagesize                 1.2.0              pyhd3eb1b0_0  \n",
      "importlib-metadata        4.8.1            py39haa95532_0  \n",
      "importlib_metadata        4.8.1                hd3eb1b0_0  \n",
      "inflection                0.5.1            py39haa95532_0  \n",
      "iniconfig                 1.1.1              pyhd3eb1b0_0  \n",
      "intel-openmp              2021.4.0          haa95532_3556  \n",
      "intervaltree              3.1.0              pyhd3eb1b0_0  \n",
      "ipykernel                 6.4.1            py39haa95532_1  \n",
      "ipython                   7.29.0           py39hd4e2768_0  \n",
      "ipython_genutils          0.2.0              pyhd3eb1b0_1  \n",
      "ipywidgets                7.6.5              pyhd3eb1b0_1  \n",
      "isort                     5.9.3              pyhd3eb1b0_0  \n",
      "itsdangerous              2.0.1              pyhd3eb1b0_0  \n",
      "jdcal                     1.4.1              pyhd3eb1b0_0  \n",
      "jedi                      0.18.0           py39haa95532_1  \n",
      "jinja2                    2.11.3             pyhd3eb1b0_0  \n",
      "jinja2-time               0.2.0              pyhd3eb1b0_2  \n",
      "joblib                    1.1.0              pyhd3eb1b0_0  \n",
      "jpeg                      9d                   h2bbff1b_0  \n",
      "json5                     0.9.6              pyhd3eb1b0_0  \n",
      "jsonschema                3.2.0              pyhd3eb1b0_2  \n",
      "jupyter                   1.0.0            py39haa95532_7  \n",
      "jupyter_client            6.1.12             pyhd3eb1b0_0  \n",
      "jupyter_console           6.4.0              pyhd3eb1b0_0  \n",
      "jupyter_core              4.8.1            py39haa95532_0  \n",
      "jupyter_server            1.4.1            py39haa95532_0  \n",
      "jupyterlab                3.2.1              pyhd3eb1b0_1  \n",
      "jupyterlab_pygments       0.1.2                      py_0  \n",
      "jupyterlab_server         2.8.2              pyhd3eb1b0_0  \n",
      "jupyterlab_widgets        1.0.0              pyhd3eb1b0_1  \n",
      "keyring                   23.1.0           py39haa95532_0  \n",
      "kiwisolver                1.3.1            py39hd77b12b_0  \n",
      "krb5                      1.19.2               h5b6d351_0  \n",
      "lazy-object-proxy         1.6.0            py39h2bbff1b_0  \n",
      "lcms2                     2.12                 h83e58a3_0  \n",
      "lerc                      3.0                  hd77b12b_0  \n",
      "libaec                    1.0.4                h33f27b4_1  \n",
      "libarchive                3.4.2                h5e25573_0  \n",
      "libcurl                   7.78.0               h86230a5_0  \n",
      "libdeflate                1.8                  h2bbff1b_5  \n",
      "libiconv                  1.15                 h1df5818_7  \n",
      "liblief                   0.10.1               hd77b12b_1  \n",
      "libpng                    1.6.37               h2a8f88b_0  \n",
      "libspatialindex           1.9.3                h6c2663c_0  \n",
      "libssh2                   1.9.0                h7a1dbc1_1  \n",
      "libtiff                   4.2.0                hd0e1b90_0  \n",
      "libwebp                   1.2.0                h2bbff1b_0  \n",
      "libxml2                   2.9.12               h0ad7f3c_0  \n",
      "libxslt                   1.1.34               he774522_0  \n",
      "libzopfli                 1.0.3                ha925a31_0  \n",
      "llvmlite                  0.37.0           py39h23ce68f_1  \n",
      "locket                    0.2.1            py39haa95532_1  \n",
      "lxml                      4.6.3            py39h9b66d53_0  \n",
      "lz4-c                     1.9.3                h2bbff1b_1  \n",
      "lzo                       2.10                 he774522_2  \n",
      "m2w64-gcc-libgfortran     5.3.0                         6  \n",
      "m2w64-gcc-libs            5.3.0                         7  \n",
      "m2w64-gcc-libs-core       5.3.0                         7  \n",
      "m2w64-gmp                 6.1.0                         2  \n",
      "m2w64-libwinpthread-git   5.0.0.4634.697f757               2  \n",
      "markupsafe                1.1.1            py39h2bbff1b_0  \n",
      "matplotlib                3.4.3            py39haa95532_0  \n",
      "matplotlib-base           3.4.3            py39h49ac443_0  \n",
      "matplotlib-inline         0.1.2              pyhd3eb1b0_2  \n",
      "mccabe                    0.6.1            py39haa95532_1  \n",
      "menuinst                  1.4.18           py39h59b6b97_0  \n",
      "mistune                   0.8.4           py39h2bbff1b_1000  \n",
      "mkl                       2021.4.0           haa95532_640  \n",
      "mkl-service               2.4.0            py39h2bbff1b_0  \n",
      "mkl_fft                   1.3.1            py39h277e83a_0  \n",
      "mkl_random                1.2.2            py39hf11a4ad_0  \n",
      "mock                      4.0.3              pyhd3eb1b0_0  \n",
      "more-itertools            8.10.0             pyhd3eb1b0_0  \n",
      "mpmath                    1.2.1            py39haa95532_0  \n",
      "msgpack-python            1.0.2            py39h59b6b97_1  \n",
      "msys2-conda-epoch         20160418                      1  \n",
      "multipledispatch          0.6.0            py39haa95532_0  \n",
      "munkres                   1.1.4                      py_0  \n",
      "mypy_extensions           0.4.3            py39haa95532_0  \n",
      "navigator-updater         0.2.1            py39haa95532_0  \n",
      "nazca                     0.5.13                   pypi_0    pypi\n",
      "nbclassic                 0.2.6              pyhd3eb1b0_0  \n",
      "nbclient                  0.5.3              pyhd3eb1b0_0  \n",
      "nbconvert                 6.1.0            py39haa95532_0  \n",
      "nbformat                  5.1.3              pyhd3eb1b0_0  \n",
      "nest-asyncio              1.5.1              pyhd3eb1b0_0  \n",
      "networkx                  2.6.3              pyhd3eb1b0_0  \n",
      "nltk                      3.6.5              pyhd3eb1b0_0  \n",
      "nose                      1.3.7           pyhd3eb1b0_1006  \n",
      "notebook                  6.4.5            py39haa95532_0  \n",
      "numba                     0.54.1           py39hf11a4ad_0  \n",
      "numexpr                   2.7.3            py39hb80d3ca_1  \n",
      "numpy                     1.20.0                   pypi_0    pypi\n",
      "numpydoc                  1.1.0              pyhd3eb1b0_1  \n",
      "olefile                   0.46               pyhd3eb1b0_0  \n",
      "openjpeg                  2.4.0                h4fc8c34_0  \n",
      "openpyxl                  3.0.9              pyhd3eb1b0_0  \n",
      "openssl                   1.1.1l               h2bbff1b_0  \n",
      "outcome                   1.2.0                    pypi_0    pypi\n",
      "packaging                 21.0               pyhd3eb1b0_0  \n",
      "pandas                    1.3.4            py39h6214cd6_0  \n",
      "pandocfilters             1.4.3            py39haa95532_1  \n",
      "paramiko                  2.7.2                      py_0  \n",
      "parso                     0.8.2              pyhd3eb1b0_0  \n",
      "partd                     1.2.0              pyhd3eb1b0_0  \n",
      "path                      16.0.0           py39haa95532_0  \n",
      "path.py                   12.5.0               hd3eb1b0_0  \n",
      "pathlib2                  2.3.6            py39haa95532_2  \n",
      "pathspec                  0.7.0                      py_0  \n",
      "patsy                     0.5.2            py39haa95532_0  \n",
      "pep8                      1.7.1            py39haa95532_0  \n",
      "pexpect                   4.8.0              pyhd3eb1b0_3  \n",
      "pickleshare               0.7.5           pyhd3eb1b0_1003  \n",
      "pillow                    8.4.0            py39hd45dc43_0  \n",
      "pip                       21.2.4           py39haa95532_0  \n",
      "pkginfo                   1.7.1            py39haa95532_0  \n",
      "plasmapy                  0.7.0                    pypi_0    pypi\n",
      "pluggy                    0.13.1           py39haa95532_0  \n",
      "ply                       3.11             py39haa95532_0  \n",
      "powershell_shortcut       0.0.1                         3  \n",
      "poyo                      0.5.0              pyhd3eb1b0_0  \n",
      "prometheus_client         0.11.0             pyhd3eb1b0_0  \n",
      "prompt-toolkit            3.0.20             pyhd3eb1b0_0  \n",
      "prompt_toolkit            3.0.20               hd3eb1b0_0  \n",
      "psutil                    5.8.0            py39h2bbff1b_1  \n",
      "ptyprocess                0.7.0              pyhd3eb1b0_2  \n",
      "py                        1.10.0             pyhd3eb1b0_0  \n",
      "py-lief                   0.10.1           py39hd77b12b_1  \n",
      "pya                       0.4.2                    pypi_0    pypi\n",
      "pyaml                     21.10.1                  pypi_0    pypi\n",
      "pyaudio                   0.2.12                   pypi_0    pypi\n",
      "pyclipper                 1.3.0.post3              pypi_0    pypi\n",
      "pycodestyle               2.7.0              pyhd3eb1b0_0  \n",
      "pycosat                   0.6.3            py39h2bbff1b_0  \n",
      "pycparser                 2.20                       py_2  \n",
      "pycurl                    7.44.1           py39hcd4344a_1  \n",
      "pydocstyle                6.1.1              pyhd3eb1b0_0  \n",
      "pyerfa                    2.0.0            py39h2bbff1b_0  \n",
      "pyflakes                  2.3.1              pyhd3eb1b0_0  \n",
      "pygments                  2.10.0             pyhd3eb1b0_0  \n",
      "pyjwt                     2.1.0            py39haa95532_0  \n",
      "pylint                    2.9.6            py39haa95532_1  \n",
      "pyls-spyder               0.4.0              pyhd3eb1b0_0  \n",
      "pynacl                    1.4.0            py39hbd8134f_1  \n",
      "pyodbc                    4.0.31           py39hd77b12b_0  \n",
      "pyopenssl                 21.0.0             pyhd3eb1b0_1  \n",
      "pyparsing                 3.0.4              pyhd3eb1b0_0  \n",
      "pyqt                      5.9.2            py39hd77b12b_6  \n",
      "pyreadline                2.1              py39haa95532_1  \n",
      "pyrsistent                0.18.0           py39h196d8e1_0  \n",
      "pysocks                   1.7.1            py39haa95532_0  \n",
      "pytables                  3.6.1            py39h56d22b6_1  \n",
      "pytest                    6.2.4            py39haa95532_2  \n",
      "python                    3.9.7                h6244533_1  \n",
      "python-dateutil           2.8.2              pyhd3eb1b0_0  \n",
      "python-dotenv             0.20.0                   pypi_0    pypi\n",
      "python-libarchive-c       2.9                pyhd3eb1b0_1  \n",
      "python-lsp-black          1.0.0              pyhd3eb1b0_0  \n",
      "python-lsp-jsonrpc        1.0.0              pyhd3eb1b0_0  \n",
      "python-lsp-server         1.2.4              pyhd3eb1b0_0  \n",
      "python-slugify            5.0.2              pyhd3eb1b0_0  \n",
      "pytz                      2021.3             pyhd3eb1b0_0  \n",
      "pywavelets                1.1.1            py39h080aedc_4  \n",
      "pywin32                   228              py39he774522_0  \n",
      "pywin32-ctypes            0.2.0           py39haa95532_1000  \n",
      "pywinpty                  0.5.7            py39haa95532_0  \n",
      "pyyaml                    6.0              py39h2bbff1b_1  \n",
      "pyzmq                     22.2.1           py39hd77b12b_1  \n",
      "qdarkstyle                3.0.2              pyhd3eb1b0_0  \n",
      "qstylizer                 0.1.10             pyhd3eb1b0_0  \n",
      "qt                        5.9.7            vc14h73c81de_0  \n",
      "qtawesome                 1.0.2              pyhd3eb1b0_0  \n",
      "qtconsole                 5.1.1              pyhd3eb1b0_0  \n",
      "qtpy                      1.10.0             pyhd3eb1b0_0  \n",
      "regex                     2021.8.3         py39h2bbff1b_0  \n",
      "requests                  2.26.0             pyhd3eb1b0_0  \n",
      "rope                      0.19.0             pyhd3eb1b0_0  \n",
      "rtree                     0.9.7            py39h2eaa2aa_1  \n",
      "ruamel_yaml               0.15.100         py39h2bbff1b_0  \n",
      "scikit-image              0.18.3           py39hf11a4ad_0  \n",
      "scikit-learn              0.24.2           py39hf11a4ad_1  \n",
      "scikit-learn-intelex      2021.3.0         py39haa95532_0  \n",
      "scikit-optimize           0.9.0                    pypi_0    pypi\n",
      "scipy                     1.7.1            py39hbe87c03_2  \n",
      "seaborn                   0.11.2             pyhd3eb1b0_0  \n",
      "selenium                  4.4.0                    pypi_0    pypi\n",
      "send2trash                1.8.0              pyhd3eb1b0_1  \n",
      "setuptools                63.1.0                   pypi_0    pypi\n",
      "simplegeneric             0.8.1            py39haa95532_2  \n",
      "simulatedlibs             0.1.4                    pypi_0    pypi\n",
      "singledispatch            3.7.0           pyhd3eb1b0_1001  \n",
      "sip                       4.19.13          py39hd77b12b_0  \n",
      "six                       1.16.0             pyhd3eb1b0_0  \n",
      "snappy                    1.1.8                h33f27b4_0  \n",
      "sniffio                   1.2.0            py39haa95532_1  \n",
      "snowballstemmer           2.1.0              pyhd3eb1b0_0  \n",
      "sortedcollections         2.1.0              pyhd3eb1b0_0  \n",
      "sortedcontainers          2.4.0              pyhd3eb1b0_0  \n",
      "soupsieve                 2.2.1              pyhd3eb1b0_0  \n",
      "sphinx                    4.2.0              pyhd3eb1b0_1  \n",
      "sphinxcontrib             1.0              py39haa95532_1  \n",
      "sphinxcontrib-applehelp   1.0.2              pyhd3eb1b0_0  \n",
      "sphinxcontrib-devhelp     1.0.2              pyhd3eb1b0_0  \n",
      "sphinxcontrib-htmlhelp    2.0.0              pyhd3eb1b0_0  \n",
      "sphinxcontrib-jsmath      1.0.1              pyhd3eb1b0_0  \n",
      "sphinxcontrib-qthelp      1.0.3              pyhd3eb1b0_0  \n",
      "sphinxcontrib-serializinghtml 1.1.5              pyhd3eb1b0_0  \n",
      "sphinxcontrib-websupport  1.2.4                      py_0  \n",
      "spyder                    5.1.5            py39haa95532_1  \n",
      "spyder-kernels            2.1.3            py39haa95532_0  \n",
      "sqlalchemy                1.4.22           py39h2bbff1b_0  \n",
      "sqlite                    3.36.0               h2bbff1b_0  \n",
      "statsmodels               0.12.2           py39h2bbff1b_0  \n",
      "svgwrite                  1.4.3                    pypi_0    pypi\n",
      "sympy                     1.9              py39haa95532_0  \n",
      "tbb                       2021.4.0             h59b6b97_0  \n",
      "tbb4py                    2021.4.0         py39h59b6b97_0  \n",
      "tblib                     1.7.0              pyhd3eb1b0_0  \n",
      "terminado                 0.9.4            py39haa95532_0  \n",
      "testpath                  0.5.0              pyhd3eb1b0_0  \n",
      "text-unidecode            1.3                pyhd3eb1b0_0  \n",
      "textdistance              4.2.1              pyhd3eb1b0_0  \n",
      "threadpoolctl             2.2.0              pyh0d69192_0  \n",
      "three-merge               0.1.1              pyhd3eb1b0_0  \n",
      "tifffile                  2021.7.2           pyhd3eb1b0_2  \n",
      "tinycss                   0.4             pyhd3eb1b0_1002  \n",
      "tk                        8.6.11               h2bbff1b_0  \n",
      "toml                      0.10.2             pyhd3eb1b0_0  \n",
      "toolz                     0.11.1             pyhd3eb1b0_0  \n",
      "tornado                   6.1              py39h2bbff1b_0  \n",
      "tqdm                      4.62.3             pyhd3eb1b0_1  \n",
      "traitlets                 5.3.0                    pypi_0    pypi\n",
      "trio                      0.21.0                   pypi_0    pypi\n",
      "trio-websocket            0.9.2                    pypi_0    pypi\n",
      "typed-ast                 1.4.3            py39h2bbff1b_1  \n",
      "typing_extensions         3.10.0.2           pyh06a4308_0  \n",
      "tzdata                    2021e                hda174b7_0  \n",
      "ujson                     4.0.2            py39hd77b12b_0  \n",
      "unicodecsv                0.14.1           py39haa95532_0  \n",
      "unidecode                 1.2.0              pyhd3eb1b0_0  \n",
      "urllib3                   1.26.7             pyhd3eb1b0_0  \n",
      "vc                        14.2                 h21ff451_1  \n",
      "vs2015_runtime            14.27.29016          h5e58377_2  \n",
      "watchdog                  2.1.3            py39haa95532_0  \n",
      "wcwidth                   0.2.5              pyhd3eb1b0_0  \n",
      "webdriver-manager         3.8.3                    pypi_0    pypi\n",
      "webencodings              0.5.1            py39haa95532_1  \n",
      "werkzeug                  2.0.2              pyhd3eb1b0_0  \n",
      "wheel                     0.37.0             pyhd3eb1b0_1  \n",
      "whichcraft                0.6.1              pyhd3eb1b0_0  \n",
      "widgetsnbextension        3.5.1            py39haa95532_0  \n",
      "win_inet_pton             1.1.0            py39haa95532_0  \n",
      "win_unicode_console       0.5              py39haa95532_0  \n",
      "wincertstore              0.2              py39haa95532_2  \n",
      "winpty                    0.4.3                         4  \n",
      "wrapt                     1.12.1           py39h196d8e1_1  \n",
      "wsproto                   1.1.0                    pypi_0    pypi\n",
      "xarray                    2022.3.0                 pypi_0    pypi\n",
      "xgboost                   1.6.1                    pypi_0    pypi\n",
      "xlrd                      2.0.1              pyhd3eb1b0_0  \n",
      "xlsxwriter                3.0.1              pyhd3eb1b0_0  \n",
      "xlwings                   0.24.9           py39haa95532_0  \n",
      "xlwt                      1.3.0            py39haa95532_0  \n",
      "xmltodict                 0.12.0             pyhd3eb1b0_0  \n",
      "xz                        5.2.5                h62dcd97_0  \n",
      "yaml                      0.2.5                he774522_0  \n",
      "yapf                      0.31.0             pyhd3eb1b0_0  \n",
      "zfp                       0.5.5                hd77b12b_6  \n",
      "zict                      2.0.0              pyhd3eb1b0_0  \n",
      "zipp                      3.6.0              pyhd3eb1b0_0  \n",
      "zlib                      1.2.11               h62dcd97_4  \n",
      "zope                      1.0              py39haa95532_1  \n",
      "zope.event                4.5.0            py39haa95532_0  \n",
      "zope.interface            5.4.0            py39h2bbff1b_0  \n",
      "zstd                      1.4.9                h19a0ad4_0  \n",
      "\n",
      "No errors reported.\n",
      "\n",
      "\n",
      "No warnings reported.\n",
      "\n",
      "--------------------------------------------------------------------------------\n",
      "If requested, please copy and paste the information between\n",
      "the dashed (----) lines, or from a given specific section as\n",
      "appropriate.\n",
      "\n",
      "=============================================================\n",
      "IMPORTANT: Please ensure that you are happy with sharing the\n",
      "contents of the information present, any information that you\n",
      "wish to keep private you should remove before sharing.\n",
      "=============================================================\n",
      "\n"
     ]
    }
   ],
   "source": [
    "!numba -s"
   ]
  },
  {
   "cell_type": "markdown",
   "id": "3acad980",
   "metadata": {},
   "source": [
    "### Lazy compilation"
   ]
  },
  {
   "cell_type": "code",
   "execution_count": 11,
   "id": "7654a743",
   "metadata": {},
   "outputs": [],
   "source": [
    "from numba import jit\n",
    "\n",
    "@jit\n",
    "def f(x, y):\n",
    "    # A somewhat trivial example\n",
    "    return x + y"
   ]
  },
  {
   "cell_type": "code",
   "execution_count": 12,
   "id": "9f85bae9",
   "metadata": {},
   "outputs": [
    {
     "data": {
      "text/plain": [
       "3"
      ]
     },
     "execution_count": 12,
     "metadata": {},
     "output_type": "execute_result"
    }
   ],
   "source": [
    "f(1,2)"
   ]
  },
  {
   "cell_type": "markdown",
   "id": "7570c555",
   "metadata": {},
   "source": [
    "### Eager compilation"
   ]
  },
  {
   "cell_type": "code",
   "execution_count": 13,
   "id": "317064eb",
   "metadata": {},
   "outputs": [],
   "source": [
    "from numba import jit, int32\n",
    "\n",
    "@jit(int32(int32, int32))\n",
    "def f(x, y):\n",
    "    # A somewhat trivial example\n",
    "    return x + y"
   ]
  },
  {
   "cell_type": "markdown",
   "id": "7296b4d2",
   "metadata": {},
   "source": [
    "### Calling other functions"
   ]
  },
  {
   "cell_type": "markdown",
   "id": "4ee3748e",
   "metadata": {},
   "source": [
    "Numba-compiled functions can call other compiled functions"
   ]
  },
  {
   "cell_type": "code",
   "execution_count": 15,
   "id": "8a6f571d",
   "metadata": {},
   "outputs": [],
   "source": [
    "@jit\n",
    "def square(x):\n",
    "    return x ** 2\n",
    "\n",
    "@jit\n",
    "def hypot(x, y):\n",
    "    return math.sqrt(square(x) + square(y))"
   ]
  },
  {
   "cell_type": "markdown",
   "id": "7aab9003",
   "metadata": {},
   "source": [
    "### Compilation options"
   ]
  },
  {
   "cell_type": "markdown",
   "id": "e2f0c1b9",
   "metadata": {},
   "source": [
    "A number of keyword-only arguments can be passed to the @jit decorator:\n",
    "- nopython,\n",
    "- nogil,\n",
    "- cache,\n",
    "- parallel."
   ]
  },
  {
   "cell_type": "markdown",
   "id": "cac34523",
   "metadata": {},
   "source": [
    "### Why @vectorize?"
   ]
  },
  {
   "cell_type": "markdown",
   "id": "8515556d",
   "metadata": {},
   "source": [
    "Numba’s vectorize allows Python functions taking scalar input arguments to be used as NumPy ufuncs. NumPy ufuncs automatically get other features such as reduction, accumulation or broadcasting."
   ]
  },
  {
   "cell_type": "code",
   "execution_count": 23,
   "id": "c6fdcc69",
   "metadata": {},
   "outputs": [],
   "source": [
    "from numba import vectorize, float64, int64, float32\n",
    "\n",
    "@vectorize([int32(int32, int32),\n",
    "            int64(int64, int64),\n",
    "            float32(float32, float32),\n",
    "            float64(float64, float64)])\n",
    "def f(x, y):\n",
    "    return x + y"
   ]
  },
  {
   "cell_type": "code",
   "execution_count": 58,
   "id": "81f6715b",
   "metadata": {},
   "outputs": [],
   "source": [
    "a = np.arange(100000)"
   ]
  },
  {
   "cell_type": "code",
   "execution_count": 59,
   "id": "9e9108b4",
   "metadata": {},
   "outputs": [
    {
     "data": {
      "text/plain": [
       "array([    0,     1,     2, ..., 99997, 99998, 99999])"
      ]
     },
     "execution_count": 59,
     "metadata": {},
     "output_type": "execute_result"
    }
   ],
   "source": [
    "a"
   ]
  },
  {
   "cell_type": "code",
   "execution_count": 60,
   "id": "f2399f6a",
   "metadata": {},
   "outputs": [
    {
     "name": "stderr",
     "output_type": "stream",
     "text": [
      "C:\\Users\\marci\\AppData\\Roaming\\Python\\Python39\\site-packages\\numba\\cuda\\dispatcher.py:488: NumbaPerformanceWarning: \u001b[1mGrid size 98 will likely result in GPU under-utilization due to low occupancy.\u001b[0m\n",
      "  warn(NumbaPerformanceWarning(msg))\n"
     ]
    },
    {
     "data": {
      "text/plain": [
       "array([     0,      2,      4, ..., 199994, 199996, 199998], dtype=int64)"
      ]
     },
     "execution_count": 60,
     "metadata": {},
     "output_type": "execute_result"
    }
   ],
   "source": [
    "f(a,a)"
   ]
  },
  {
   "cell_type": "code",
   "execution_count": 63,
   "id": "418fc8b3",
   "metadata": {},
   "outputs": [
    {
     "data": {
      "text/plain": [
       "array([[     0,      2],\n",
       "       [     4,      6],\n",
       "       [     8,     10],\n",
       "       ...,\n",
       "       [199988, 199990],\n",
       "       [199992, 199994],\n",
       "       [199996, 199998]])"
      ]
     },
     "execution_count": 63,
     "metadata": {},
     "output_type": "execute_result"
    }
   ],
   "source": [
    "f(a,a).reshape(50000,2)"
   ]
  },
  {
   "cell_type": "markdown",
   "id": "1bf1d6de",
   "metadata": {},
   "source": [
    "The vectorize() decorator supports multiple ufunc targets:\n",
    "- cpu (Single-threaded CPU)\n",
    "- parallel (Multi-core CPU)\n",
    "- cuda (CUDA GPU)"
   ]
  },
  {
   "cell_type": "code",
   "execution_count": 64,
   "id": "2cf65dd6",
   "metadata": {},
   "outputs": [],
   "source": [
    "from numba import vectorize, float64, int64, float32\n",
    "\n",
    "@vectorize([int32(int32, int32),\n",
    "            int64(int64, int64),\n",
    "            float32(float32, float32),\n",
    "            float64(float64, float64)], target='cpu')\n",
    "def f(x, y):\n",
    "    return x + y"
   ]
  },
  {
   "cell_type": "code",
   "execution_count": 65,
   "id": "bcb3dea7",
   "metadata": {},
   "outputs": [
    {
     "name": "stdout",
     "output_type": "stream",
     "text": [
      "13.3 µs ± 773 ns per loop (mean ± std. dev. of 7 runs, 100,000 loops each)\n"
     ]
    }
   ],
   "source": [
    "%timeit f(a,a).reshape(50000,2)"
   ]
  },
  {
   "cell_type": "code",
   "execution_count": 66,
   "id": "7291348b",
   "metadata": {},
   "outputs": [],
   "source": [
    "from numba import vectorize, float64, int64, float32\n",
    "\n",
    "@vectorize([int32(int32, int32),\n",
    "            int64(int64, int64),\n",
    "            float32(float32, float32),\n",
    "            float64(float64, float64)], target='parallel')\n",
    "def f(x, y):\n",
    "    return x + y"
   ]
  },
  {
   "cell_type": "code",
   "execution_count": 67,
   "id": "2f4eb149",
   "metadata": {},
   "outputs": [
    {
     "name": "stdout",
     "output_type": "stream",
     "text": [
      "169 µs ± 4.84 µs per loop (mean ± std. dev. of 7 runs, 10,000 loops each)\n"
     ]
    }
   ],
   "source": [
    "%timeit f(a,a).reshape(50000,2)"
   ]
  },
  {
   "cell_type": "code",
   "execution_count": 84,
   "id": "8226c832",
   "metadata": {},
   "outputs": [
    {
     "name": "stdout",
     "output_type": "stream",
     "text": [
      "['_CUDAUFuncDispatcher__reduce', '__call__', '__class__', '__delattr__', '__dict__', '__dir__', '__doc__', '__eq__', '__format__', '__ge__', '__getattribute__', '__gt__', '__hash__', '__init__', '__init_subclass__', '__le__', '__lt__', '__module__', '__ne__', '__new__', '__reduce__', '__reduce_ex__', '__repr__', '__setattr__', '__sizeof__', '__str__', '__subclasshook__', '__weakref__', '_max_blocksize', '_maxblocksize', 'functions', 'max_blocksize', 'reduce']\n"
     ]
    }
   ],
   "source": [
    "from numba import vectorize, float64, int64, float32\n",
    "\n",
    "@vectorize([int32(int32, int32),\n",
    "            int64(int64, int64),\n",
    "            float32(float32, float32),\n",
    "            float64(float64, float64)], target='cuda')\n",
    "def f(x, y):\n",
    "    return x + y\n",
    "\n",
    "f.max_blocksize = 32\n",
    "print(dir(f))"
   ]
  },
  {
   "cell_type": "code",
   "execution_count": 85,
   "id": "d8907216",
   "metadata": {},
   "outputs": [
    {
     "name": "stderr",
     "output_type": "stream",
     "text": [
      "C:\\Users\\marci\\AppData\\Roaming\\Python\\Python39\\site-packages\\numba\\cuda\\dispatcher.py:488: NumbaPerformanceWarning: \u001b[1mGrid size 98 will likely result in GPU under-utilization due to low occupancy.\u001b[0m\n",
      "  warn(NumbaPerformanceWarning(msg))\n"
     ]
    },
    {
     "name": "stdout",
     "output_type": "stream",
     "text": [
      "1.54 ms ± 72.2 µs per loop (mean ± std. dev. of 7 runs, 100 loops each)\n"
     ]
    }
   ],
   "source": [
    "%timeit f(a,a).reshape(50000,2)"
   ]
  },
  {
   "cell_type": "markdown",
   "id": "16af50fd",
   "metadata": {},
   "source": [
    "### The @guvectorize decorator"
   ]
  },
  {
   "cell_type": "markdown",
   "id": "975d9f64",
   "metadata": {},
   "source": [
    "While vectorize() allows you to write ufuncs that work on one element at a time, the guvectorize() decorator takes the concept one step further and allows you to write ufuncs that will work on an arbitrary number of elements of input arrays, and take and return arrays of differing dimensions."
   ]
  },
  {
   "cell_type": "markdown",
   "id": "ae587053",
   "metadata": {},
   "source": [
    "Contrary to vectorize() functions, guvectorize() functions don’t return their result value: they take it as an array argument, which must be filled in by the function."
   ]
  },
  {
   "cell_type": "code",
   "execution_count": 89,
   "id": "164fe819",
   "metadata": {},
   "outputs": [],
   "source": [
    "from numba import guvectorize\n",
    "\n",
    "@guvectorize([(int64[:], int64, int64[:])], '(n),()->(n)')\n",
    "def g(x, y, res):\n",
    "    for i in range(x.shape[0]):\n",
    "        res[i] = x[i] + y"
   ]
  },
  {
   "cell_type": "markdown",
   "id": "6e528224",
   "metadata": {},
   "source": [
    "The declaration of input and output layouts, in symbolic form: (n),()->(n) tells NumPy that the function takes a n-element one-dimension array, a scalar (symbolically denoted by the empty tuple ()) and returns a n-element one-dimension array."
   ]
  },
  {
   "cell_type": "code",
   "execution_count": null,
   "id": "f032b256",
   "metadata": {},
   "outputs": [],
   "source": []
  }
 ],
 "metadata": {
  "kernelspec": {
   "display_name": "Python 3 (ipykernel)",
   "language": "python",
   "name": "python3"
  },
  "language_info": {
   "codemirror_mode": {
    "name": "ipython",
    "version": 3
   },
   "file_extension": ".py",
   "mimetype": "text/x-python",
   "name": "python",
   "nbconvert_exporter": "python",
   "pygments_lexer": "ipython3",
   "version": "3.9.7"
  }
 },
 "nbformat": 4,
 "nbformat_minor": 5
}
